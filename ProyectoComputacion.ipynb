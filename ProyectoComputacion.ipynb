{
 "cells": [
  {
   "cell_type": "markdown",
   "metadata": {},
   "source": [
    "# PROYECTO FINAL DE COMPUTACION\n",
    "## Facultad de Ciencias, UNAM\n",
    "<font face=\"Times New Roman\">Trabjo hecho por: \n",
    "    \n",
    "<font face=\"Times\">Jared Imanol Poot Alfonso\n",
    "    \n",
    "<font face=\"Times New Roman\">Victor Humberto Hernández Moya"
   ]
  },
  {
   "cell_type": "code",
   "execution_count": 15,
   "metadata": {
    "jupyter": {
     "source_hidden": true
    }
   },
   "outputs": [],
   "source": [
    "import math\n",
    "import pandas as pd\n",
    "import numpy as np\n",
    "from matplotlib import pyplot as plt"
   ]
  },
  {
   "cell_type": "markdown",
   "metadata": {},
   "source": [
    "El objetivo de este proyecto es, basandonos en las leyes hechas por Kepler que describen la dinamica de los planetas alrededor del Sol y la ley de gravitacion universal de Newton, y en datos astronomicos recopilados (longitudes de los semiejes mayores de las orbitas de los planetas del sistema solar, excentricidades de las orbitas, masa del sol y periodo terrestre), poder mostrar que se obtiene un mismo valor para la constante que resulta de la razon del cuadrado del periodo y del cubo del semieje mayor, y a partir de ello buscar una ecuacion fisica y/o matematica que describa las orbitas y las posiciones de los planetas en funcion del periodo o del tiempo, ademas de mostrar la velocidad orbital que llevan en tal posicion dichos cuerpos."
   ]
  },
  {
   "cell_type": "markdown",
   "metadata": {},
   "source": [
    "Por la primera ley de Kepler, sabemos que todos los planetas del sistema solar se mueven en órbitas elípticas, con el Sol en uno de los focos. Por lo que necesitamos encontrar una ecuacion que nos permita graficar una elipse.\n",
    "\n",
    "Asi que a partir de la ecuacion de la elipse:\n",
    "\n",
    "$ \\frac{(x-h)^2}{a^2} + \\frac{(y-k)^2}{b^2} = 1$\n",
    "\n",
    "Observamos que tiene la misma forma que la identidad trigonometrica:\n",
    "\n",
    "$ cos{\\theta}^2 + sen{\\theta}^2 = 1$\n",
    "\n",
    "Por lo que parametrizamos la ecuacion de la elipse, de forma que podemos describir X y Y:\n",
    "\n",
    "$ cos{\\theta}^2  = \\frac{(x-h)^2}{a^2} = (\\frac{(x-h)}{a})^2$\n",
    "\n",
    "$sen{\\theta}^2  = \\frac{(y-k)^2}{b^2} = (\\frac{(y-k)}{b})^2$\n",
    "\n",
    "Entoces, desarrollamos las ecuaciones y despejamos X y Y:\n",
    " \n",
    "$ X = acos{\\theta} + h$\n",
    "\n",
    "$Y = bsen{\\theta} + k$\n",
    "\n",
    "Donde $a$ es la longitud del semieje mayor, $b$ la longitud del semieje menor, y $h$ y $k$ las coordenadas del centro de la elipse."
   ]
  },
  {
   "cell_type": "markdown",
   "metadata": {},
   "source": [
    "Y como de lo unico que tenemos conocimiento es de las longitudes de los semiejes mayores de las orbitas de los planetas , sus excentricidades, la masa del sol y el periodo de la tierra:\n",
    "\n"
   ]
  },
  {
   "cell_type": "code",
   "execution_count": 4,
   "metadata": {
    "jupyter": {
     "source_hidden": true
    }
   },
   "outputs": [
    {
     "data": {
      "text/html": [
       "<div>\n",
       "<style scoped>\n",
       "    .dataframe tbody tr th:only-of-type {\n",
       "        vertical-align: middle;\n",
       "    }\n",
       "\n",
       "    .dataframe tbody tr th {\n",
       "        vertical-align: top;\n",
       "    }\n",
       "\n",
       "    .dataframe thead th {\n",
       "        text-align: right;\n",
       "    }\n",
       "</style>\n",
       "<table border=\"1\" class=\"dataframe\">\n",
       "  <thead>\n",
       "    <tr style=\"text-align: right;\">\n",
       "      <th></th>\n",
       "      <th>Planetas</th>\n",
       "      <th>Semieje Mayor en metros</th>\n",
       "      <th>Excentricidades</th>\n",
       "      <th>Periodo en dias</th>\n",
       "      <th>Masa Sol en kg</th>\n",
       "    </tr>\n",
       "  </thead>\n",
       "  <tbody>\n",
       "    <tr>\n",
       "      <th>0</th>\n",
       "      <td>Mercurio</td>\n",
       "      <td>57 909 176 000</td>\n",
       "      <td>0.205631</td>\n",
       "      <td>365</td>\n",
       "      <td>1,989 × 10^30</td>\n",
       "    </tr>\n",
       "    <tr>\n",
       "      <th>1</th>\n",
       "      <td>Venus</td>\n",
       "      <td>108 208 930 000</td>\n",
       "      <td>0.006800</td>\n",
       "      <td></td>\n",
       "      <td>1,989 × 10^30</td>\n",
       "    </tr>\n",
       "    <tr>\n",
       "      <th>2</th>\n",
       "      <td>Tierra</td>\n",
       "      <td>149 597 887 000</td>\n",
       "      <td>0.016710</td>\n",
       "      <td></td>\n",
       "      <td>1,989 × 10^30</td>\n",
       "    </tr>\n",
       "    <tr>\n",
       "      <th>3</th>\n",
       "      <td>Marte</td>\n",
       "      <td>227 936 637 000</td>\n",
       "      <td>0.093412</td>\n",
       "      <td></td>\n",
       "      <td>1,989 × 10^30</td>\n",
       "    </tr>\n",
       "    <tr>\n",
       "      <th>4</th>\n",
       "      <td>Jupiter</td>\n",
       "      <td>778 412 027 000</td>\n",
       "      <td>0.048393</td>\n",
       "      <td></td>\n",
       "      <td>1,989 × 10^30</td>\n",
       "    </tr>\n",
       "    <tr>\n",
       "      <th>5</th>\n",
       "      <td>Saturno</td>\n",
       "      <td>1 421 179 772 000</td>\n",
       "      <td>0.054151</td>\n",
       "      <td></td>\n",
       "      <td>1,989 × 10^30</td>\n",
       "    </tr>\n",
       "    <tr>\n",
       "      <th>6</th>\n",
       "      <td>Urano</td>\n",
       "      <td>2 876 679 082 000</td>\n",
       "      <td>0.044406</td>\n",
       "      <td></td>\n",
       "      <td>1,989 × 10^30</td>\n",
       "    </tr>\n",
       "    <tr>\n",
       "      <th>7</th>\n",
       "      <td>Neptuno</td>\n",
       "      <td>4 503 443 661 000</td>\n",
       "      <td>0.008586</td>\n",
       "      <td></td>\n",
       "      <td>1,989 × 10^30</td>\n",
       "    </tr>\n",
       "  </tbody>\n",
       "</table>\n",
       "</div>"
      ],
      "text/plain": [
       "   Planetas Semieje Mayor en metros  Excentricidades Periodo en dias  \\\n",
       "0  Mercurio          57 909 176 000         0.205631             365   \n",
       "1     Venus         108 208 930 000         0.006800                   \n",
       "2    Tierra         149 597 887 000         0.016710                   \n",
       "3     Marte         227 936 637 000         0.093412                   \n",
       "4   Jupiter         778 412 027 000         0.048393                   \n",
       "5   Saturno       1 421 179 772 000         0.054151                   \n",
       "6     Urano       2 876 679 082 000         0.044406                   \n",
       "7   Neptuno       4 503 443 661 000         0.008586                   \n",
       "\n",
       "   Masa Sol en kg  \n",
       "0  1,989 × 10^30   \n",
       "1  1,989 × 10^30   \n",
       "2  1,989 × 10^30   \n",
       "3  1,989 × 10^30   \n",
       "4  1,989 × 10^30   \n",
       "5  1,989 × 10^30   \n",
       "6  1,989 × 10^30   \n",
       "7  1,989 × 10^30   "
      ]
     },
     "execution_count": 4,
     "metadata": {},
     "output_type": "execute_result"
    }
   ],
   "source": [
    "S= \"1,989 × 10^30 \"\n",
    "SisSol = {\"Planetas\": [\"Mercurio\",\"Venus\",\"Tierra\",\"Marte\",\"Jupiter\",\"Saturno\",\"Urano\",\"Neptuno\"],\n",
    "        'Semieje Mayor en metros': [\"57 909 176 000\",\"108 208 930 000\",\"149 597 887 000\",\"227 936 637 000\",\"778 412 027 000\",\"1 421 179 772 000\",\"2 876 679 082 000\",\"4 503 443 661 000\"],\n",
    "        'Excentricidades': [0.205630690,0.0068,0.01671022,0.09341233,0.04839266,0.0541506,0.044405586,0.00858587],\n",
    "        \"Periodo en dias\": [\"365\",\"\",\"\",\"\",\"\",\"\",\"\",\"\"],\n",
    "        \"Masa Sol en kg\": [S,S,S,S,S,S,S,S]\n",
    "        }\n",
    "df = pd.DataFrame(SisSol)\n",
    "df"
   ]
  },
  {
   "cell_type": "markdown",
   "metadata": {},
   "source": [
    "Necesitamos usar la formula de la excentricidad $e$ para poder encontrar la longitud de los semiejes menores $b$:\n",
    "\n",
    "$ e = \\sqrt{1 - \\frac{b^2}{a^2}} $; donde $e$ es la excentricidad de la elipse y $a$ el semieje mayor, y al despejar $b$ tenemos:\n",
    "\n",
    "$ b = \\sqrt{(1-e^2)a^2} $"
   ]
  },
  {
   "cell_type": "code",
   "execution_count": 17,
   "metadata": {
    "jupyter": {
     "source_hidden": true
    }
   },
   "outputs": [
    {
     "name": "stdout",
     "output_type": "stream",
     "text": [
      "[56671637453.44933, 108206428180.61703, 149576999324.1391, 226939986097.7253, 777500030823.1646, 1419094588462.0042, 2873841483924.2285, 4503277667394.11]\n"
     ]
    }
   ],
   "source": [
    "b = []\n",
    "a = [57909176000,108208930000,149597887000,227936637000,778412027000,1421179772000,2876679082000,4503443661000]\n",
    "e = [0.205630690,0.0068,0.01671022,0.09341233,0.04839266,0.0541506,0.044405586,0.00858587]\n",
    "lena = len(a)\n",
    "for i in range(lena):\n",
    "    B= np.sqrt((1-e[i]**2)*(a[i]**2))\n",
    "    b.append(B)\n",
    "print(b)"
   ]
  },
  {
   "cell_type": "code",
   "execution_count": 6,
   "metadata": {
    "jupyter": {
     "source_hidden": true
    }
   },
   "outputs": [
    {
     "data": {
      "text/html": [
       "<div>\n",
       "<style scoped>\n",
       "    .dataframe tbody tr th:only-of-type {\n",
       "        vertical-align: middle;\n",
       "    }\n",
       "\n",
       "    .dataframe tbody tr th {\n",
       "        vertical-align: top;\n",
       "    }\n",
       "\n",
       "    .dataframe thead th {\n",
       "        text-align: right;\n",
       "    }\n",
       "</style>\n",
       "<table border=\"1\" class=\"dataframe\">\n",
       "  <thead>\n",
       "    <tr style=\"text-align: right;\">\n",
       "      <th></th>\n",
       "      <th>Planetas</th>\n",
       "      <th>Semieje Mayor en metros</th>\n",
       "      <th>Semieje Menor en metros</th>\n",
       "      <th>Excentricidades</th>\n",
       "      <th>Periodo en dias</th>\n",
       "      <th>Masa Sol en kg</th>\n",
       "    </tr>\n",
       "  </thead>\n",
       "  <tbody>\n",
       "    <tr>\n",
       "      <th>0</th>\n",
       "      <td>Mercurio</td>\n",
       "      <td>57 909 176 000</td>\n",
       "      <td>5.667164e+10</td>\n",
       "      <td>0.205631</td>\n",
       "      <td>365</td>\n",
       "      <td>1,989 × 10^30</td>\n",
       "    </tr>\n",
       "    <tr>\n",
       "      <th>1</th>\n",
       "      <td>Venus</td>\n",
       "      <td>108 208 930 000</td>\n",
       "      <td>1.082064e+11</td>\n",
       "      <td>0.006800</td>\n",
       "      <td></td>\n",
       "      <td>1,989 × 10^30</td>\n",
       "    </tr>\n",
       "    <tr>\n",
       "      <th>2</th>\n",
       "      <td>Tierra</td>\n",
       "      <td>149 597 887 000</td>\n",
       "      <td>1.495770e+11</td>\n",
       "      <td>0.016710</td>\n",
       "      <td></td>\n",
       "      <td>1,989 × 10^30</td>\n",
       "    </tr>\n",
       "    <tr>\n",
       "      <th>3</th>\n",
       "      <td>Marte</td>\n",
       "      <td>227 936 637 000</td>\n",
       "      <td>2.269400e+11</td>\n",
       "      <td>0.093412</td>\n",
       "      <td></td>\n",
       "      <td>1,989 × 10^30</td>\n",
       "    </tr>\n",
       "    <tr>\n",
       "      <th>4</th>\n",
       "      <td>Jupiter</td>\n",
       "      <td>778 412 027 000</td>\n",
       "      <td>7.775000e+11</td>\n",
       "      <td>0.048393</td>\n",
       "      <td></td>\n",
       "      <td>1,989 × 10^30</td>\n",
       "    </tr>\n",
       "    <tr>\n",
       "      <th>5</th>\n",
       "      <td>Saturno</td>\n",
       "      <td>1 421 179 772 000</td>\n",
       "      <td>1.419095e+12</td>\n",
       "      <td>0.054151</td>\n",
       "      <td></td>\n",
       "      <td>1,989 × 10^30</td>\n",
       "    </tr>\n",
       "    <tr>\n",
       "      <th>6</th>\n",
       "      <td>Urano</td>\n",
       "      <td>2 876 679 082 000</td>\n",
       "      <td>2.873841e+12</td>\n",
       "      <td>0.044406</td>\n",
       "      <td></td>\n",
       "      <td>1,989 × 10^30</td>\n",
       "    </tr>\n",
       "    <tr>\n",
       "      <th>7</th>\n",
       "      <td>Neptuno</td>\n",
       "      <td>4 503 443 661 000</td>\n",
       "      <td>4.503278e+12</td>\n",
       "      <td>0.008586</td>\n",
       "      <td></td>\n",
       "      <td>1,989 × 10^30</td>\n",
       "    </tr>\n",
       "  </tbody>\n",
       "</table>\n",
       "</div>"
      ],
      "text/plain": [
       "   Planetas Semieje Mayor en metros  Semieje Menor en metros  Excentricidades  \\\n",
       "0  Mercurio          57 909 176 000             5.667164e+10         0.205631   \n",
       "1     Venus         108 208 930 000             1.082064e+11         0.006800   \n",
       "2    Tierra         149 597 887 000             1.495770e+11         0.016710   \n",
       "3     Marte         227 936 637 000             2.269400e+11         0.093412   \n",
       "4   Jupiter         778 412 027 000             7.775000e+11         0.048393   \n",
       "5   Saturno       1 421 179 772 000             1.419095e+12         0.054151   \n",
       "6     Urano       2 876 679 082 000             2.873841e+12         0.044406   \n",
       "7   Neptuno       4 503 443 661 000             4.503278e+12         0.008586   \n",
       "\n",
       "  Periodo en dias  Masa Sol en kg  \n",
       "0             365  1,989 × 10^30   \n",
       "1                  1,989 × 10^30   \n",
       "2                  1,989 × 10^30   \n",
       "3                  1,989 × 10^30   \n",
       "4                  1,989 × 10^30   \n",
       "5                  1,989 × 10^30   \n",
       "6                  1,989 × 10^30   \n",
       "7                  1,989 × 10^30   "
      ]
     },
     "execution_count": 6,
     "metadata": {},
     "output_type": "execute_result"
    }
   ],
   "source": [
    "SisSol = {\"Planetas\": [\"Mercurio\",\"Venus\",\"Tierra\",\"Marte\",\"Jupiter\",\"Saturno\",\"Urano\",\"Neptuno\"],\n",
    "        'Semieje Mayor en metros': [\"57 909 176 000\",\"108 208 930 000\",\"149 597 887 000\",\"227 936 637 000\",\"778 412 027 000\",\"1 421 179 772 000\",\"2 876 679 082 000\",\"4 503 443 661 000\"],\n",
    "        \"Semieje Menor en metros\": b,\n",
    "        'Excentricidades': [0.205630690,0.0068,0.01671022,0.09341233,0.04839266,0.0541506,0.044405586,0.00858587],\n",
    "        \"Periodo en dias\": [\"365\",\"\",\"\",\"\",\"\",\"\",\"\",\"\"],\n",
    "        \"Masa Sol en kg\": [S,S,S,S,S,S,S,S]\n",
    "        }\n",
    "df = pd.DataFrame(SisSol)\n",
    "df        \n",
    "        "
   ]
  },
  {
   "cell_type": "markdown",
   "metadata": {},
   "source": [
    "Ya obtenidos los semiejes menores de las orbitas, podemos probar las ecuaciones parametricas de la elipse sustituyendo $a$ y $b$ con los semiejes menores y mayores de la orbita de la tierra, definimos un conjunto de valores entre 0 y 2$\\pi$ que llamamos angulo y centramos la elipse en el origen, es decir, el punto (0,0).\n",
    "Usamos la biblioteca matplotlib para poder graficar la elipse."
   ]
  },
  {
   "cell_type": "code",
   "execution_count": 18,
   "metadata": {},
   "outputs": [
    {
     "data": {
      "text/plain": [
       "Text(0, 0.5, 'Y')"
      ]
     },
     "execution_count": 18,
     "metadata": {},
     "output_type": "execute_result"
    },
    {
     "data": {
      "image/png": "[encoded data removed]",
      "text/plain": [
       "<Figure size 432x288 with 1 Axes>"
      ]
     },
     "metadata": {
      "needs_background": "light"
     },
     "output_type": "display_data"
    }
   ],
   "source": [
    "num = 100 \n",
    "angulo = np.linspace(0, 2*np.pi, num) \n",
    "x = a[2] * np.cos(angulo) \n",
    "y = b[2] * np.sin(angulo) \n",
    "plt.plot(x, y, \"r\")\n",
    "plt.gca().set_aspect('equal') \n",
    "plt.grid()\n",
    "plt.title(\"Orbita\")\n",
    "plt.xlabel(\"X\")\n",
    "plt.ylabel(\"Y\")"
   ]
  },
  {
   "cell_type": "markdown",
   "metadata": {},
   "source": [
    "Y ahora que ya vimos como poder graficar la elipse a partir de las ecuaciones parametrizadas, hacemos lo mismo para todas las orbitas y \n",
    "formar el sistema solar."
   ]
  },
  {
   "cell_type": "code",
   "execution_count": 50,
   "metadata": {},
   "outputs": [
    {
     "data": {
      "text/plain": [
       "Text(0, 0.5, 'Y')"
      ]
     },
     "execution_count": 50,
     "metadata": {},
     "output_type": "execute_result"
    },
    {
     "data": {
      "image/png": "[encoded data removed]",
      "text/plain": [
       "<Figure size 432x288 with 1 Axes>"
      ]
     },
     "metadata": {
      "needs_background": "light"
     },
     "output_type": "display_data"
    }
   ],
   "source": [
    "for i in range(8):\n",
    "    angulo = np.linspace(0, 2*np.pi, num+1)\n",
    "    x = a[i] * np.cos(angulo) \n",
    "    y = b[i] * np.sin(angulo) \n",
    "    plt.plot(x, y)\n",
    "    plt.gca().set_aspect('equal')\n",
    "plt.grid()\n",
    "\n",
    "plt.title(\"Or.-pos. Sis. Solar \")\n",
    "plt.xlabel(\"X\")\n",
    "plt.ylabel(\"Y\")"
   ]
  },
  {
   "cell_type": "markdown",
   "metadata": {},
   "source": [
    "Pero como el tamaño de las orbitas de Jupiter, Saturno, Urano y Neptuno son mas grandes que las orbitas de los otros, separamos las graficas en las orbitas de los planetas interiores (Mercurio, Venus, Tierra y Marte respectivamente en ese orden):"
   ]
  },
  {
   "cell_type": "code",
   "execution_count": 51,
   "metadata": {},
   "outputs": [
    {
     "data": {
      "text/plain": [
       "Text(0, 0.5, 'Y')"
      ]
     },
     "execution_count": 51,
     "metadata": {},
     "output_type": "execute_result"
    },
    {
     "data": {
      "image/png": "[encoded data removed]",
      "text/plain": [
       "<Figure size 432x288 with 1 Axes>"
      ]
     },
     "metadata": {
      "needs_background": "light"
     },
     "output_type": "display_data"
    }
   ],
   "source": [
    "for i in range(4):\n",
    "    angulo = np.linspace(0, 2*np.pi, num+1)\n",
    "    x = a[i] * np.cos(angulo) \n",
    "    y = b[i] * np.sin(angulo) \n",
    "    plt.plot(x, y)\n",
    "    plt.gca().set_aspect('equal')\n",
    "plt.grid()\n",
    "\n",
    "plt.title(\"Orbitas planetas interiores \")\n",
    "plt.xlabel(\"X\")\n",
    "plt.ylabel(\"Y\")"
   ]
  },
  {
   "cell_type": "markdown",
   "metadata": {},
   "source": [
    "Y los planetas exteriores (Jupiter, Saturno, Urano y Neptuno respectivamente en ese orden):"
   ]
  },
  {
   "cell_type": "code",
   "execution_count": 13,
   "metadata": {},
   "outputs": [
    {
     "data": {
      "text/plain": [
       "Text(0, 0.5, 'Y')"
      ]
     },
     "execution_count": 13,
     "metadata": {},
     "output_type": "execute_result"
    },
    {
     "data": {
      "image/png": "[encoded data removed]",
      "text/plain": [
       "<Figure size 432x288 with 1 Axes>"
      ]
     },
     "metadata": {
      "needs_background": "light"
     },
     "output_type": "display_data"
    }
   ],
   "source": [
    "for i in range(4, 8, 1):\n",
    "    angulo = np.linspace(0, 2*np.pi, num+1)\n",
    "    x = a[i] * np.cos(angulo) \n",
    "    y = b[i] * np.sin(angulo) \n",
    "    plt.plot(x, y)\n",
    "    plt.gca().set_aspect('equal')\n",
    "plt.grid()\n",
    "\n",
    "plt.title(\"Orbitas planetas externos \")\n",
    "plt.xlabel(\"X\")\n",
    "plt.ylabel(\"Y\")"
   ]
  },
  {
   "cell_type": "markdown",
   "metadata": {},
   "source": [
    "Ahora, en base a la segunda ley de kepler que menciona que la línea que une un planeta al Sol, barre áreas iguales en tiempos iguales. Si suponemos que los planetas describen un movimiento circular uniforme, donde los planetas recorren angulos iguales en tiempos iguales, entones podemos describir al angulo $\\theta$ a partir de la formula de velocidad angular:\n",
    "\n",
    "$\\omega = \\frac{d\\theta}{dt}$ , despejando $\\theta$ tenemos: $\\theta = \\int \\omega dt$ , que es lo mismo que $\\theta = \\omega t + {\\theta}_0$\n",
    "\n",
    "Y asi podemos calcular la posicion de los planetas en las orbitas en funcion del tiempo, volviendo a usar las ecuaciones parametricas de la elipse para ello, solo que esta vez sustituimos a $\\theta$ por $\\omega t + {\\theta}_0$.\n"
   ]
  },
  {
   "cell_type": "markdown",
   "metadata": {},
   "source": [
    "Pero por otra parte tambien tenemos que $\\omega = \\frac{2\\pi}{T} $, donde T es el periodo.\n",
    "Entonces si sustituimos $\\omega$ en la ecuacion $\\theta = \\omega t + {\\theta}_0$, tenemos $\\theta = \\frac{2\\pi}{T} t + {\\theta}_0$.\n",
    "\n",
    "Por lo que ahora tenemos que las ecuaciones parametricas tienen -la siguiente forma:\n",
    "\n",
    "$ X = acos(\\frac{2\\pi}{T} t + {\\theta}_0) $\n",
    "\n",
    "$Y = bsen(\\frac{2\\pi}{T} t + {\\theta}_0) $\n",
    "\n",
    "Pero notemos que si tomamos a ${\\theta}_0$ como 0, poniendo como punto de partida ${\\theta}_0 = 0$  entoces las ecuaciones se simplifican a :\n",
    "\n",
    "$ X = acos(\\frac{2\\pi}{T}) t $\n",
    "\n",
    "$Y = bsen(\\frac{2\\pi}{T}) t $"
   ]
  },
  {
   "cell_type": "markdown",
   "metadata": {},
   "source": [
    "Entonces probemos lo anterior mencionado, sustituimos $T$ con el periodo de la tierra y $t$ con un tiempo en dias cualquiera:"
   ]
  },
  {
   "cell_type": "code",
   "execution_count": 19,
   "metadata": {},
   "outputs": [
    {
     "data": {
      "text/plain": [
       "Text(0, 0.5, 'Y')"
      ]
     },
     "execution_count": 19,
     "metadata": {},
     "output_type": "execute_result"
    },
    {
     "data": {
      "image/png": "[encoded data removed]",
      "text/plain": [
       "<Figure size 432x288 with 1 Axes>"
      ]
     },
     "metadata": {
      "needs_background": "light"
     },
     "output_type": "display_data"
    }
   ],
   "source": [
    "#Para el planeta Tierra\n",
    "t=0 #en dias\n",
    "T=365  #en dias\n",
    "Teta=((2*np.pi/T)*t)\n",
    "x = a[2] * np.cos(angulo) \n",
    "y = b[2] * np.sin(angulo) \n",
    "plt.plot(x, y, \"g\")\n",
    "plt.gca().set_aspect('equal')\n",
    "plt.grid()\n",
    "\n",
    "x = a[2] * np.cos(Teta) \n",
    "y = b[2] * np.sin(Teta)\n",
    "plt.plot(x, y, \"or\") \n",
    "\n",
    "plt.title(\"Or.-pos. Tierra \")\n",
    "plt.xlabel(\"X\")\n",
    "plt.ylabel(\"Y\")"
   ]
  },
  {
   "cell_type": "markdown",
   "metadata": {},
   "source": [
    "Ahora debemos encontrar los periodos de los demas planetas para mostrar la posicion de los demas planetas en sus orbitas, pero antes de eso mostraremos que la constante de proporcionalidad $K$ de Kepler es la misma para todos los planetas del sistema solar, y por el camino encontraremos los periodos de los demas planetas.\n",
    "\n",
    "Entonces recurrimos a la tercera ley de kepler que indica que la razon de los cuadrados de los periodos de dos planetas cualesquiera girando alrededor del Sol es igual a la razon de los cubos de sus semiejes mayores. Es decir, si $T_1$ y $T_2$ representan los periodos (el tiempo necesario para completar un giro alrededor del Sol) de dos planetas cualesquiera, y $a_1$ y $a_2$ representan sus semiejes mayores, se tiene:\n",
    "\n",
    "$(\\frac{T_1}{T_2})^2 = (\\frac{r_1}{r_2})^3$ , es decir, $ \\frac{(T^2)_1}{(r^3)_1} = \\frac{(T^2)_2}{(r^3)_2} = K $, dodne $K$ tiene unidades de $1\\frac{años^2}{Ua^3}$\n",
    "\n",
    "Donde $K$ tiene el mismo valor para cada planeta en el Sistema Solar. Por lo que para cualquier planeta del Sistema Solar nos es posible hallar su periodo al despejar y obtener:\n",
    "\n",
    "$ T_2 = \\sqrt{\\frac{(T^2)_1(r^3)_2}{(r^3)_1}}$, en este caso, como conocemos el periodo de la Tierra y los semiejes mayores de todos los planeta podemos encontrar los periodos de todos los planetas."
   ]
  },
  {
   "cell_type": "markdown",
   "metadata": {},
   "source": [
    "Asi que primero convertimos de metros a Ua (unidad astronomica = 149 597 870 700 m)  los semiejes mayores."
   ]
  },
  {
   "cell_type": "code",
   "execution_count": 11,
   "metadata": {
    "jupyter": {
     "source_hidden": true
    }
   },
   "outputs": [
    {
     "data": {
      "text/plain": [
       "[0.387098889972958,\n",
       " 0.7233319411790889,\n",
       " 1.0,\n",
       " 1.5236621423670242,\n",
       " 5.2033624445511055,\n",
       " 9.499998967231402,\n",
       " 19.229409851223366,\n",
       " 30.103658222124487]"
      ]
     },
     "execution_count": 11,
     "metadata": {},
     "output_type": "execute_result"
    }
   ],
   "source": [
    "aUA=[] #lista que almacena los semiejes mayores en Unidades Astronómicas (UA)\n",
    "for i in a:\n",
    "    ua=i/a[2]\n",
    "    aUA.append(ua)\n",
    "aUA"
   ]
  },
  {
   "cell_type": "markdown",
   "metadata": {},
   "source": [
    "Despues usamos la ecuacion $ T_p = \\sqrt{\\frac{(T^2)_T(r^3)_p}{(r^3)_T}}$ para encontrar los periodos de los planetas. Y hacemos dos ciclos for, uno para elevar al cuadrado los periodos y otro para elevar al cubo los semiejes mayores."
   ]
  },
  {
   "cell_type": "code",
   "execution_count": 12,
   "metadata": {
    "jupyter": {
     "source_hidden": true
    }
   },
   "outputs": [
    {
     "name": "stdout",
     "output_type": "stream",
     "text": [
      "[0.2408423681824466, 0.6151860302945245, 1.0, 1.8807584230186998, 11.869327610025852, 29.280961739292863, 84.32356010397797, 165.1691416880822]\n",
      "[0.05800504631172916, 0.37845385186953556, 1.0, 3.5372522457557865, 140.880937914122, 857.3747203779325, 7110.462788609185, 27280.84536597777]\n",
      "[0.05800504631172916, 0.37845385186953556, 1.0, 3.5372522457557865, 140.880937914122, 857.3747203779326, 7110.462788609184, 27280.845365977773]\n"
     ]
    }
   ],
   "source": [
    "Tp=[]\n",
    "T=1\n",
    "for j in aUA:\n",
    "    p=math.sqrt((T**2)*(j**3)/(aUA[2]**3))\n",
    "    Tp.append(p)\n",
    "print(Tp)\n",
    "Tp2=[]\n",
    "for k in Tp:\n",
    "    TP=k**2\n",
    "    Tp2.append(TP)\n",
    "print(Tp2)\n",
    "a3=[]\n",
    "for l in aUA:\n",
    "    A=l**3\n",
    "    a3.append(A)\n",
    "print(a3)"
   ]
  },
  {
   "cell_type": "markdown",
   "metadata": {},
   "source": [
    "Despues hacemos una grafica de $T^2$  $vs$  $r^3$. Que al calcular la pendiente de la grafica podemos obervar que el valor de la constante es 1 en cualquier punto de la recta, por lo que se asegura que tiene el mismo valor para cada planeta."
   ]
  },
  {
   "cell_type": "code",
   "execution_count": 57,
   "metadata": {},
   "outputs": [
    {
     "data": {
      "text/plain": [
       "Text(0, 0.5, '$T^2$')"
      ]
     },
     "execution_count": 57,
     "metadata": {},
     "output_type": "execute_result"
    },
    {
     "data": {
      "image/png": "[encoded data removed]",
      "text/plain": [
       "<Figure size 432x288 with 1 Axes>"
      ]
     },
     "metadata": {
      "needs_background": "light"
     },
     "output_type": "display_data"
    }
   ],
   "source": [
    "plt.plot(a3,Tp2)\n",
    "plt.plot(a3,Tp2,'o')\n",
    "plt.title(\"Periodo al cuadrado vs semieje mayor al cubo\")\n",
    "plt.xlabel(\"$a^3$\")\n",
    "plt.ylabel(\"$T^2$\")"
   ]
  },
  {
   "cell_type": "code",
   "execution_count": 14,
   "metadata": {
    "jupyter": {
     "source_hidden": true
    }
   },
   "outputs": [
    {
     "name": "stdout",
     "output_type": "stream",
     "text": [
      "[1.0, 1.0, 1.0, 1.0, 1.0, 0.9999999999999999, 1.0000000000000002, 0.9999999999999999]\n"
     ]
    }
   ],
   "source": [
    "#Calculamos el valor de la constante k\n",
    "K=[]\n",
    "for i,j in zip(Tp2,a3):\n",
    "    k=i/j\n",
    "    K.append(k)\n",
    "print(K)"
   ]
  },
  {
   "cell_type": "code",
   "execution_count": 17,
   "metadata": {
    "jupyter": {
     "source_hidden": true
    }
   },
   "outputs": [
    {
     "data": {
      "text/plain": [
       "Text(0, 0.5, '$K$')"
      ]
     },
     "execution_count": 17,
     "metadata": {},
     "output_type": "execute_result"
    },
    {
     "data": {
      "image/png": "[encoded data removed]",
      "text/plain": [
       "<Figure size 432x288 with 1 Axes>"
      ]
     },
     "metadata": {
      "needs_background": "light"
     },
     "output_type": "display_data"
    }
   ],
   "source": [
    "plt.plot(SisSol[\"Planetas\"], K, 'o')\n",
    "plt.plot(SisSol[\"Planetas\"], K)\n",
    "plt.title(\"$Constante$ vs $Planeta$\")\n",
    "plt.xlabel(\"Planeta\")\n",
    "plt.ylabel(\"$K$\")"
   ]
  },
  {
   "cell_type": "markdown",
   "metadata": {},
   "source": [
    "Y de esta forma logramos mostrar que la constante de proporcionalidad $K$ converge a $1\\frac{años^2}{Ua^3}$ y es la misma para todos los planetas del Sistema Solar, ademas de que logramos encontrar los periodos de los demas planetas."
   ]
  },
  {
   "cell_type": "markdown",
   "metadata": {},
   "source": [
    "Una vez que hemos obtenido los periodos de los planetas, usamos 4 condicionales para poder introducir un tiempo cualquiera en segundos, horas, dias y años. Y en cada uno de estos condicionales hay dos ciclos for que realizan la funcion de realizar las operaciones para hallar $\\theta = \\frac{2\\pi}{T_p}t$ de las ecuaciones parametricas de las elipses, y hacer una lista con las posiciones de todos los planetas en $X$ y $Y$ ."
   ]
  },
  {
   "cell_type": "code",
   "execution_count": 40,
   "metadata": {},
   "outputs": [
    {
     "name": "stdin",
     "output_type": "stream",
     "text": [
      "Si quiere introducir un tiempo en segundos oprime [1], si es en horas[2], si es en dias[3], y si es en años[4] Terrestres: 4\n",
      "Introduce tiempo: 1\n"
     ]
    },
    {
     "name": "stdout",
     "output_type": "stream",
     "text": [
      "[33419020221.6811, -76262666742.3075, 149597887000.0, -223430161566.89566, 671869851660.4884, 1388585521798.7542, 2868696886876.7354, 4500185561990.632]\n",
      "[46282476552.11422, -76765263580.1962, -3.6635798689674555e-05, -44903500337.17005, 392624926040.2078, 302181481356.67883, 213939901179.67932, 171267489559.82175]\n"
     ]
    }
   ],
   "source": [
    "opcion= int(input(\"Si quiere introducir un tiempo en segundos oprime [1], si es en horas[2], si es en dias[3], y si es en años[4] Terrestres:\"))\n",
    "seg=31536000\n",
    "hor=8760\n",
    "dia=365\n",
    "if opcion == 1: \n",
    "    t=float(input(\"Introduce tiempo:\"))\n",
    "    Teta=[]\n",
    "    for j in range(lena): \n",
    "        Teta.append((2*np.pi/(Tp[j]*seg))*t)\n",
    "    X=[] \n",
    "    Y=[]\n",
    "    for i in range(lena):\n",
    "        x = a[i] * np.cos(Teta[i]) \n",
    "        y = b[i] * np.sin(Teta[i]) \n",
    "        X.append(x)\n",
    "        Y.append(y)\n",
    "    print(X)\n",
    "    print(Y)\n",
    "elif opcion == 2:\n",
    "    t=float(input(\"Introduce tiempo:\"))\n",
    "    Teta=[]\n",
    "    for j in range(lena): \n",
    "        Teta.append((2*np.pi/(Tp[j]*hor))*t)\n",
    "    X=[] \n",
    "    Y=[]\n",
    "    for i in range(lena):\n",
    "        x = a[i] * np.cos(Teta[i]) \n",
    "        y = b[i] * np.sin(Teta[i]) \n",
    "        X.append(x)\n",
    "        Y.append(y)\n",
    "    print(X)\n",
    "    print(Y)\n",
    "elif opcion == 3:\n",
    "    t=float(input(\"Introduce tiempo:\"))\n",
    "    Teta=[]\n",
    "    for j in range(lena): \n",
    "        Teta.append((2*np.pi/(Tp[j]*dia))*t)\n",
    "    print(Teta)\n",
    "    X=[] \n",
    "    Y=[]\n",
    "    for i in range(lena):\n",
    "        x = a[i] * np.cos(Teta[i]) \n",
    "        y = b[i] * np.sin(Teta[i]) \n",
    "        X.append(x)\n",
    "        Y.append(y)\n",
    "    print(X)\n",
    "    print(Y)\n",
    "elif opcion == 4:\n",
    "    t=float(input(\"Introduce tiempo:\"))\n",
    "    Teta=[]\n",
    "    for j in range(lena): \n",
    "        Teta.append((2*np.pi/Tp[j])*t)\n",
    "    X=[] \n",
    "    Y=[]\n",
    "    for i in range(lena):\n",
    "        x = a[i] * np.cos(Teta[i]) \n",
    "        y = b[i] * np.sin(Teta[i]) \n",
    "        X.append(x)\n",
    "        Y.append(y)\n",
    "    print(X)\n",
    "    print(Y)"
   ]
  },
  {
   "cell_type": "markdown",
   "metadata": {},
   "source": [
    "Despues creamos 4 listas X1,X2,Y1,Y2 y dos ciclos for para que metan los primeros 4 valores de X y Y en las listas X1 y Y1, y los otros 4 valores en las listas X2 y Y2, esto para poder hacer una grafica con las posiciones y las orbitas de los planetas inetriores, y otra grafica  con las posiciones y las orbitas de los planetas exteriores."
   ]
  },
  {
   "cell_type": "code",
   "execution_count": 41,
   "metadata": {
    "jupyter": {
     "source_hidden": true
    }
   },
   "outputs": [
    {
     "name": "stdout",
     "output_type": "stream",
     "text": [
      "[33419020221.6811, -76262666742.3075, 149597887000.0, -223430161566.89566]\n",
      "[671869851660.4884, 1388585521798.7542, 2868696886876.7354, 4500185561990.632]\n",
      "[46282476552.11422, -76765263580.1962, -3.6635798689674555e-05, -44903500337.17005]\n",
      "[392624926040.2078, 302181481356.67883, 213939901179.67932, 171267489559.82175]\n"
     ]
    }
   ],
   "source": [
    "X1=[]\n",
    "Y1=[]\n",
    "X2=[]\n",
    "Y2=[]\n",
    "for i in range(4):\n",
    "    X1.append(X[i])\n",
    "    Y1.append(Y[i])\n",
    "for j in range(4,8):\n",
    "    X2.append(X[j])\n",
    "    Y2.append(Y[j])\n",
    "print(X1)\n",
    "print(X2)\n",
    "print(Y1)\n",
    "print(Y2)"
   ]
  },
  {
   "cell_type": "markdown",
   "metadata": {},
   "source": [
    "De forma que creamos un ciclo for que grafique las orbitas de los planetas inetriores y colocamos una funcion plot que grafica los puntos que simulan los planetas en sus orbitas."
   ]
  },
  {
   "cell_type": "code",
   "execution_count": 58,
   "metadata": {},
   "outputs": [
    {
     "data": {
      "text/plain": [
       "Text(0, 0.5, 'Y')"
      ]
     },
     "execution_count": 58,
     "metadata": {},
     "output_type": "execute_result"
    },
    {
     "data": {
      "image/png": "[encoded data removed]",
      "text/plain": [
       "<Figure size 432x288 with 1 Axes>"
      ]
     },
     "metadata": {
      "needs_background": "light"
     },
     "output_type": "display_data"
    }
   ],
   "source": [
    "for i in range(4):\n",
    "    angulo = np.linspace(0, 2*np.pi, num+1)\n",
    "    x = a[i] * np.cos(angulo) \n",
    "    y = b[i] * np.sin(angulo) \n",
    "    plt.plot(x, y)\n",
    "    plt.gca().set_aspect('equal')\n",
    "    plt.grid()\n",
    "\n",
    "plt.plot(X1, Y1, \"or\") #Se grafican los puntos que son las posiciones en un tiempo determinado\n",
    "plt.gca().set_aspect('equal')\n",
    "plt.grid()\n",
    "\n",
    "plt.title(\"Or.-pos. planetas interiores \")\n",
    "plt.xlabel(\"X\")\n",
    "plt.ylabel(\"Y\")"
   ]
  },
  {
   "cell_type": "markdown",
   "metadata": {},
   "source": [
    "Y lo mismo hacemos para los planetas exteriores(Jupiter, Saturno, Urano, Neptuno):"
   ]
  },
  {
   "cell_type": "code",
   "execution_count": 59,
   "metadata": {},
   "outputs": [
    {
     "data": {
      "text/plain": [
       "Text(0, 0.5, 'Y')"
      ]
     },
     "execution_count": 59,
     "metadata": {},
     "output_type": "execute_result"
    },
    {
     "data": {
      "image/png": "[encoded data removed]",
      "text/plain": [
       "<Figure size 432x288 with 1 Axes>"
      ]
     },
     "metadata": {
      "needs_background": "light"
     },
     "output_type": "display_data"
    }
   ],
   "source": [
    "for i in range(4, 8, 1):\n",
    "    angulo = np.linspace(0, 2*np.pi, num+1)\n",
    "    x = a[i] * np.cos(angulo) \n",
    "    y = b[i] * np.sin(angulo) \n",
    "    plt.plot(x, y)\n",
    "    plt.gca().set_aspect('equal')\n",
    "    plt.grid()\n",
    "    \n",
    "plt.plot(X2, Y2, \"or\") #Se grafican los puntos que son las posiciones en un tiempo determinado\n",
    "plt.gca().set_aspect('equal')\n",
    "plt.grid()\n",
    "\n",
    "plt.title(\"Or.-pos. planetas externos \")\n",
    "plt.xlabel(\"X\")\n",
    "plt.ylabel(\"Y\")"
   ]
  },
  {
   "cell_type": "markdown",
   "metadata": {},
   "source": [
    "Ahora, para calcular la velocidad tangencial u orbital del planeta en la posicion en la que se encuentra, hacemos uso de la ecuacion de la ley de gravitacion universal: $F=\\frac{GMm}{r^2}$ \n",
    "\n",
    "Y como $F$ es una fuerza centripeta, podemos expresarla como $F= a_c m$, pero la aceleracion centripeta es igual a $a_c= \\frac{v^2}{r}$, por lo que tenemos que: $F = a_c m = \\frac{v^2 m}{r}=\\frac{GMm}{r^2}$, y si despejamos $v$ obtenemos la siguiente ecuacion:\n",
    "\n",
    "$ v = \\sqrt{\\frac{GM}{r}}$, pero $r$ es la distancia que hay entre el punto que es la posicion del planeta en su orbita y el foco en que esta el Sol.\n",
    "\n",
    "Por lo que haremos uso de una formula geometrica de la elipse en donde podemos hallar la distancia del centro a uno de los focos, esta formula es :\n",
    "$ \\sqrt{a^2 - b^2} = c $ ; donde $a$ es el semieje mayor, $b$ es la distancia del semieje menor y c la distancia del centro de la elipse al foco.\n",
    "\n",
    "Entoces creamos un ciclo for que realiza la operacion anterior con los datos de $b$ y $a$ y los mete a una lista."
   ]
  },
  {
   "cell_type": "code",
   "execution_count": 44,
   "metadata": {
    "jupyter": {
     "source_hidden": true
    }
   },
   "outputs": [
    {
     "name": "stdout",
     "output_type": "stream",
     "text": [
      "[11907903818.211454, 735820724.0003357, 2499813603.303775, 21292092354.534145, 37669428562.51986, 76957737361.66525, 127740620370.15382, 38665981825.67552]\n"
     ]
    }
   ],
   "source": [
    "C= [] \n",
    "for i,j in zip(a,b):\n",
    "    c= np.sqrt(i**2-j**2)\n",
    "    C.append(c)\n",
    "print(C)"
   ]
  },
  {
   "cell_type": "markdown",
   "metadata": {},
   "source": [
    "Y como el foco en el que se encuentra el Sol es un punto en el eje X, entonces el Foco es un punto con coordenadas ($C[i]$,$0$). Y como queremos obtener la distancia del foco al punto de la posicion del planeta, hacemos uso de la formula de distancia entre puntos: $dP = \\sqrt{(X[i]-C[i])^2 + (Y[i])^2}$.\n",
    "\n",
    "De modo que realizamos un ciclo for para que realice las operaciones de la formula anterior, y los valores de $r$ los introduzca en una lista."
   ]
  },
  {
   "cell_type": "code",
   "execution_count": 45,
   "metadata": {
    "jupyter": {
     "source_hidden": true
    }
   },
   "outputs": [
    {
     "name": "stdout",
     "output_type": "stream",
     "text": [
      "[51037199812.69176, 108727516133.84793, 147098073396.69623, 248807768984.2401, 745898457704.3452, 1345987032843.2825, 2749292915681.8613, 4464805652788.865]\n"
     ]
    }
   ],
   "source": [
    "R=[]\n",
    "for i in range(lena):\n",
    "    r =np.sqrt((X[i]-C[i])**2 + (Y[i])**2)\n",
    "    R.append(r)\n",
    "print(R)"
   ]
  },
  {
   "cell_type": "markdown",
   "metadata": {},
   "source": [
    "Y ahora creamos un ciclo for en el que se realice las operciones de la formula $ v = \\sqrt{\\frac{GM}{r}}$, de forma que se obtienen los valores de las velocidades de cada planeta en su posicion y las mete en una lista."
   ]
  },
  {
   "cell_type": "code",
   "execution_count": 37,
   "metadata": {
    "jupyter": {
     "source_hidden": true
    }
   },
   "outputs": [
    {
     "name": "stdout",
     "output_type": "stream",
     "text": [
      "[52.94066603039055, 35.060396058556414, 29.53377651980568, 24.014070688652485, 13.370955237772476, 9.932837481374559, 6.946896004053162, 5.451048538504742]\n"
     ]
    }
   ],
   "source": [
    "G = 6.67*10**-11\n",
    "M= 1.989*10**30\n",
    "V= []\n",
    "for i in range(lena):\n",
    "    v= np.sqrt(G*M/R[i])\n",
    "    V.append(v/1000)\n",
    "print(V)"
   ]
  },
  {
   "cell_type": "markdown",
   "metadata": {},
   "source": [
    "Finalmente creamos el siguiente DataFrame que muestra todos los datos recopilados durante este proyecto."
   ]
  },
  {
   "cell_type": "code",
   "execution_count": 29,
   "metadata": {
    "jupyter": {
     "source_hidden": true
    }
   },
   "outputs": [
    {
     "data": {
      "text/html": [
       "<div>\n",
       "<style scoped>\n",
       "    .dataframe tbody tr th:only-of-type {\n",
       "        vertical-align: middle;\n",
       "    }\n",
       "\n",
       "    .dataframe tbody tr th {\n",
       "        vertical-align: top;\n",
       "    }\n",
       "\n",
       "    .dataframe thead th {\n",
       "        text-align: right;\n",
       "    }\n",
       "</style>\n",
       "<table border=\"1\" class=\"dataframe\">\n",
       "  <thead>\n",
       "    <tr style=\"text-align: right;\">\n",
       "      <th></th>\n",
       "      <th>Planetas</th>\n",
       "      <th>Semieje Mayor (m)</th>\n",
       "      <th>Semieje Menor (m)</th>\n",
       "      <th>Periodo en años(Tierra)</th>\n",
       "      <th>Tiempo</th>\n",
       "      <th>PosicionX</th>\n",
       "      <th>PosicionY</th>\n",
       "      <th>Velocidad orbital en km/s</th>\n",
       "      <th>Const. de propor.</th>\n",
       "      <th>Excentricidades</th>\n",
       "    </tr>\n",
       "  </thead>\n",
       "  <tbody>\n",
       "    <tr>\n",
       "      <th>0</th>\n",
       "      <td>Mercurio</td>\n",
       "      <td>57 909 176 000</td>\n",
       "      <td>5.667164e+10</td>\n",
       "      <td>0.240842</td>\n",
       "      <td>1.0</td>\n",
       "      <td>3.341902e+10</td>\n",
       "      <td>4.628248e+10</td>\n",
       "      <td>50.984350</td>\n",
       "      <td>1.0</td>\n",
       "      <td>0.205631</td>\n",
       "    </tr>\n",
       "    <tr>\n",
       "      <th>1</th>\n",
       "      <td>Venus</td>\n",
       "      <td>108 208 930 000</td>\n",
       "      <td>1.082064e+11</td>\n",
       "      <td>0.615186</td>\n",
       "      <td>1.0</td>\n",
       "      <td>-7.626267e+10</td>\n",
       "      <td>-7.676526e+10</td>\n",
       "      <td>34.930964</td>\n",
       "      <td>1.0</td>\n",
       "      <td>0.006800</td>\n",
       "    </tr>\n",
       "    <tr>\n",
       "      <th>2</th>\n",
       "      <td>Tierra</td>\n",
       "      <td>149 597 887 000</td>\n",
       "      <td>1.495770e+11</td>\n",
       "      <td>1.000000</td>\n",
       "      <td>1.0</td>\n",
       "      <td>1.495979e+11</td>\n",
       "      <td>-3.663580e-05</td>\n",
       "      <td>30.031486</td>\n",
       "      <td>1.0</td>\n",
       "      <td>0.016710</td>\n",
       "    </tr>\n",
       "    <tr>\n",
       "      <th>3</th>\n",
       "      <td>Marte</td>\n",
       "      <td>227 936 637 000</td>\n",
       "      <td>2.269400e+11</td>\n",
       "      <td>1.880758</td>\n",
       "      <td>1.0</td>\n",
       "      <td>-2.234302e+11</td>\n",
       "      <td>-4.490350e+10</td>\n",
       "      <td>23.091298</td>\n",
       "      <td>1.0</td>\n",
       "      <td>0.093412</td>\n",
       "    </tr>\n",
       "    <tr>\n",
       "      <th>4</th>\n",
       "      <td>Jupiter</td>\n",
       "      <td>778 412 027 000</td>\n",
       "      <td>7.775000e+11</td>\n",
       "      <td>11.869328</td>\n",
       "      <td>1.0</td>\n",
       "      <td>6.718699e+11</td>\n",
       "      <td>3.926249e+11</td>\n",
       "      <td>13.336457</td>\n",
       "      <td>1.0</td>\n",
       "      <td>0.048393</td>\n",
       "    </tr>\n",
       "    <tr>\n",
       "      <th>5</th>\n",
       "      <td>Saturno</td>\n",
       "      <td>1 421 179 772 000</td>\n",
       "      <td>1.419095e+12</td>\n",
       "      <td>29.280962</td>\n",
       "      <td>1.0</td>\n",
       "      <td>1.388586e+12</td>\n",
       "      <td>3.021815e+11</td>\n",
       "      <td>9.927957</td>\n",
       "      <td>1.0</td>\n",
       "      <td>0.054151</td>\n",
       "    </tr>\n",
       "    <tr>\n",
       "      <th>6</th>\n",
       "      <td>Urano</td>\n",
       "      <td>2 876 679 082 000</td>\n",
       "      <td>2.873841e+12</td>\n",
       "      <td>84.323560</td>\n",
       "      <td>1.0</td>\n",
       "      <td>2.868697e+12</td>\n",
       "      <td>2.139399e+11</td>\n",
       "      <td>6.946560</td>\n",
       "      <td>1.0</td>\n",
       "      <td>0.044406</td>\n",
       "    </tr>\n",
       "    <tr>\n",
       "      <th>7</th>\n",
       "      <td>Neptuno</td>\n",
       "      <td>4 503 443 661 000</td>\n",
       "      <td>4.503278e+12</td>\n",
       "      <td>165.169142</td>\n",
       "      <td>1.0</td>\n",
       "      <td>4.500186e+12</td>\n",
       "      <td>1.712675e+11</td>\n",
       "      <td>5.451036</td>\n",
       "      <td>1.0</td>\n",
       "      <td>0.008586</td>\n",
       "    </tr>\n",
       "  </tbody>\n",
       "</table>\n",
       "</div>"
      ],
      "text/plain": [
       "   Planetas  Semieje Mayor (m)  Semieje Menor (m)  Periodo en años(Tierra)  \\\n",
       "0  Mercurio     57 909 176 000       5.667164e+10                 0.240842   \n",
       "1     Venus    108 208 930 000       1.082064e+11                 0.615186   \n",
       "2    Tierra    149 597 887 000       1.495770e+11                 1.000000   \n",
       "3     Marte    227 936 637 000       2.269400e+11                 1.880758   \n",
       "4   Jupiter    778 412 027 000       7.775000e+11                11.869328   \n",
       "5   Saturno  1 421 179 772 000       1.419095e+12                29.280962   \n",
       "6     Urano  2 876 679 082 000       2.873841e+12                84.323560   \n",
       "7   Neptuno  4 503 443 661 000       4.503278e+12               165.169142   \n",
       "\n",
       "   Tiempo     PosicionX     PosicionY  Velocidad orbital en km/s  \\\n",
       "0     1.0  3.341902e+10  4.628248e+10                  50.984350   \n",
       "1     1.0 -7.626267e+10 -7.676526e+10                  34.930964   \n",
       "2     1.0  1.495979e+11 -3.663580e-05                  30.031486   \n",
       "3     1.0 -2.234302e+11 -4.490350e+10                  23.091298   \n",
       "4     1.0  6.718699e+11  3.926249e+11                  13.336457   \n",
       "5     1.0  1.388586e+12  3.021815e+11                   9.927957   \n",
       "6     1.0  2.868697e+12  2.139399e+11                   6.946560   \n",
       "7     1.0  4.500186e+12  1.712675e+11                   5.451036   \n",
       "\n",
       "   Const. de propor.  Excentricidades  \n",
       "0                1.0         0.205631  \n",
       "1                1.0         0.006800  \n",
       "2                1.0         0.016710  \n",
       "3                1.0         0.093412  \n",
       "4                1.0         0.048393  \n",
       "5                1.0         0.054151  \n",
       "6                1.0         0.044406  \n",
       "7                1.0         0.008586  "
      ]
     },
     "execution_count": 29,
     "metadata": {},
     "output_type": "execute_result"
    }
   ],
   "source": [
    "SisSol = {\"Planetas\": [\"Mercurio\",\"Venus\",\"Tierra\",\"Marte\",\"Jupiter\",\"Saturno\",\"Urano\",\"Neptuno\"],\n",
    "        'Semieje Mayor (m)': [\"57 909 176 000\",\"108 208 930 000\",\"149 597 887 000\",\"227 936 637 000\",\"778 412 027 000\",\"1 421 179 772 000\",\"2 876 679 082 000\",\"4 503 443 661 000\"],\n",
    "        \"Semieje Menor (m)\": b,\n",
    "        \"Periodo en años(Tierra)\": Tp,\n",
    "        \"Tiempo\":[t,t,t,t,t,t,t,t],\n",
    "        \"PosicionX\": X,\n",
    "        \"PosicionY\": Y,\n",
    "        \"Velocidad orbital en km/s\": V,\n",
    "        \"Const. de propor.\": K,\n",
    "        'Excentricidades': [0.205630690,0.0068,0.01671022,0.09341233,0.04839266,0.0541506,0.044405586,0.00858587]\n",
    "        }\n",
    "df = pd.DataFrame(SisSol)\n",
    "df"
   ]
  },
  {
   "cell_type": "code",
   "execution_count": 30,
   "metadata": {},
   "outputs": [
    {
     "data": {
      "text/html": [
       "<div>\n",
       "<style scoped>\n",
       "    .dataframe tbody tr th:only-of-type {\n",
       "        vertical-align: middle;\n",
       "    }\n",
       "\n",
       "    .dataframe tbody tr th {\n",
       "        vertical-align: top;\n",
       "    }\n",
       "\n",
       "    .dataframe thead th {\n",
       "        text-align: right;\n",
       "    }\n",
       "</style>\n",
       "<table border=\"1\" class=\"dataframe\">\n",
       "  <thead>\n",
       "    <tr style=\"text-align: right;\">\n",
       "      <th></th>\n",
       "      <th>Planetas</th>\n",
       "      <th>Semieje Mayor (m)</th>\n",
       "      <th>Semieje Menor (m)</th>\n",
       "      <th>Periodo en años(Tierra)</th>\n",
       "      <th>Tiempo</th>\n",
       "      <th>PosicionX</th>\n",
       "      <th>PosicionY</th>\n",
       "      <th>Velocidad orbital en km/s</th>\n",
       "      <th>Const. de propor.</th>\n",
       "      <th>Excentricidades</th>\n",
       "    </tr>\n",
       "  </thead>\n",
       "  <tbody>\n",
       "    <tr>\n",
       "      <th>0</th>\n",
       "      <td>Mercurio</td>\n",
       "      <td>57 909 176 000</td>\n",
       "      <td>5.667164e+10</td>\n",
       "      <td>0.240842</td>\n",
       "      <td>1.0</td>\n",
       "      <td>3.341902e+10</td>\n",
       "      <td>4.628248e+10</td>\n",
       "      <td>50.984350</td>\n",
       "      <td>1.0</td>\n",
       "      <td>0.205631</td>\n",
       "    </tr>\n",
       "    <tr>\n",
       "      <th>1</th>\n",
       "      <td>Venus</td>\n",
       "      <td>108 208 930 000</td>\n",
       "      <td>1.082064e+11</td>\n",
       "      <td>0.615186</td>\n",
       "      <td>1.0</td>\n",
       "      <td>-7.626267e+10</td>\n",
       "      <td>-7.676526e+10</td>\n",
       "      <td>34.930964</td>\n",
       "      <td>1.0</td>\n",
       "      <td>0.006800</td>\n",
       "    </tr>\n",
       "    <tr>\n",
       "      <th>2</th>\n",
       "      <td>Tierra</td>\n",
       "      <td>149 597 887 000</td>\n",
       "      <td>1.495770e+11</td>\n",
       "      <td>1.000000</td>\n",
       "      <td>1.0</td>\n",
       "      <td>1.495979e+11</td>\n",
       "      <td>-3.663580e-05</td>\n",
       "      <td>30.031486</td>\n",
       "      <td>1.0</td>\n",
       "      <td>0.016710</td>\n",
       "    </tr>\n",
       "    <tr>\n",
       "      <th>3</th>\n",
       "      <td>Marte</td>\n",
       "      <td>227 936 637 000</td>\n",
       "      <td>2.269400e+11</td>\n",
       "      <td>1.880758</td>\n",
       "      <td>1.0</td>\n",
       "      <td>-2.234302e+11</td>\n",
       "      <td>-4.490350e+10</td>\n",
       "      <td>23.091298</td>\n",
       "      <td>1.0</td>\n",
       "      <td>0.093412</td>\n",
       "    </tr>\n",
       "    <tr>\n",
       "      <th>4</th>\n",
       "      <td>Jupiter</td>\n",
       "      <td>778 412 027 000</td>\n",
       "      <td>7.775000e+11</td>\n",
       "      <td>11.869328</td>\n",
       "      <td>1.0</td>\n",
       "      <td>6.718699e+11</td>\n",
       "      <td>3.926249e+11</td>\n",
       "      <td>13.336457</td>\n",
       "      <td>1.0</td>\n",
       "      <td>0.048393</td>\n",
       "    </tr>\n",
       "    <tr>\n",
       "      <th>5</th>\n",
       "      <td>Saturno</td>\n",
       "      <td>1 421 179 772 000</td>\n",
       "      <td>1.419095e+12</td>\n",
       "      <td>29.280962</td>\n",
       "      <td>1.0</td>\n",
       "      <td>1.388586e+12</td>\n",
       "      <td>3.021815e+11</td>\n",
       "      <td>9.927957</td>\n",
       "      <td>1.0</td>\n",
       "      <td>0.054151</td>\n",
       "    </tr>\n",
       "    <tr>\n",
       "      <th>6</th>\n",
       "      <td>Urano</td>\n",
       "      <td>2 876 679 082 000</td>\n",
       "      <td>2.873841e+12</td>\n",
       "      <td>84.323560</td>\n",
       "      <td>1.0</td>\n",
       "      <td>2.868697e+12</td>\n",
       "      <td>2.139399e+11</td>\n",
       "      <td>6.946560</td>\n",
       "      <td>1.0</td>\n",
       "      <td>0.044406</td>\n",
       "    </tr>\n",
       "    <tr>\n",
       "      <th>7</th>\n",
       "      <td>Neptuno</td>\n",
       "      <td>4 503 443 661 000</td>\n",
       "      <td>4.503278e+12</td>\n",
       "      <td>165.169142</td>\n",
       "      <td>1.0</td>\n",
       "      <td>4.500186e+12</td>\n",
       "      <td>1.712675e+11</td>\n",
       "      <td>5.451036</td>\n",
       "      <td>1.0</td>\n",
       "      <td>0.008586</td>\n",
       "    </tr>\n",
       "  </tbody>\n",
       "</table>\n",
       "</div>"
      ],
      "text/plain": [
       "   Planetas  Semieje Mayor (m)  Semieje Menor (m)  Periodo en años(Tierra)  \\\n",
       "0  Mercurio     57 909 176 000       5.667164e+10                 0.240842   \n",
       "1     Venus    108 208 930 000       1.082064e+11                 0.615186   \n",
       "2    Tierra    149 597 887 000       1.495770e+11                 1.000000   \n",
       "3     Marte    227 936 637 000       2.269400e+11                 1.880758   \n",
       "4   Jupiter    778 412 027 000       7.775000e+11                11.869328   \n",
       "5   Saturno  1 421 179 772 000       1.419095e+12                29.280962   \n",
       "6     Urano  2 876 679 082 000       2.873841e+12                84.323560   \n",
       "7   Neptuno  4 503 443 661 000       4.503278e+12               165.169142   \n",
       "\n",
       "   Tiempo     PosicionX     PosicionY  Velocidad orbital en km/s  \\\n",
       "0     1.0  3.341902e+10  4.628248e+10                  50.984350   \n",
       "1     1.0 -7.626267e+10 -7.676526e+10                  34.930964   \n",
       "2     1.0  1.495979e+11 -3.663580e-05                  30.031486   \n",
       "3     1.0 -2.234302e+11 -4.490350e+10                  23.091298   \n",
       "4     1.0  6.718699e+11  3.926249e+11                  13.336457   \n",
       "5     1.0  1.388586e+12  3.021815e+11                   9.927957   \n",
       "6     1.0  2.868697e+12  2.139399e+11                   6.946560   \n",
       "7     1.0  4.500186e+12  1.712675e+11                   5.451036   \n",
       "\n",
       "   Const. de propor.  Excentricidades  \n",
       "0                1.0         0.205631  \n",
       "1                1.0         0.006800  \n",
       "2                1.0         0.016710  \n",
       "3                1.0         0.093412  \n",
       "4                1.0         0.048393  \n",
       "5                1.0         0.054151  \n",
       "6                1.0         0.044406  \n",
       "7                1.0         0.008586  "
      ]
     },
     "execution_count": 30,
     "metadata": {},
     "output_type": "execute_result"
    }
   ],
   "source": [
    "df"
   ]
  },
  {
   "cell_type": "code",
   "execution_count": null,
   "metadata": {},
   "outputs": [],
   "source": []
  }
 ],
 "metadata": {
  "kernelspec": {
   "display_name": "Python 3",
   "language": "python",
   "name": "python3"
  },
  "language_info": {
   "codemirror_mode": {
    "name": "ipython",
    "version": 3
   },
   "file_extension": ".py",
   "mimetype": "text/x-python",
   "name": "python",
   "nbconvert_exporter": "python",
   "pygments_lexer": "ipython3",
   "version": "3.8.3"
  }
 },
 "nbformat": 4,
 "nbformat_minor": 4
}
